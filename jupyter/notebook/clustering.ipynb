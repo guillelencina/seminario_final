{
 "cells": [
  {
   "cell_type": "code",
   "execution_count": 11,
   "metadata": {
    "id": "EylYOhsbIzKH"
   },
   "outputs": [],
   "source": [
    "import numpy as np\n",
    "import pandas as pd\n",
    "import seaborn as sns\n",
    "import random\n",
    "import matplotlib.pyplot as plt\n",
    "import seaborn as sns\n",
    "from sklearn import preprocessing\n",
    "from sklearn.preprocessing import OneHotEncoder\n",
    "pd.options.mode.chained_assignment = None  # default='warn'\n",
    "import csv\n",
    "from operator import itemgetter\n",
    "from sqlalchemy import create_engine\n",
    "import networkx as nx\n",
    "from networkx.algorithms import community #This part of networkx, for community detection, needs to be imported separately."
   ]
  },
  {
   "cell_type": "markdown",
   "metadata": {
    "id": "6Uk1auDGw2nF"
   },
   "source": [
    "# Creacion de un dataframe fitcio"
   ]
  },
  {
   "cell_type": "markdown",
   "metadata": {
    "id": "d5PShW4vRjJ8"
   },
   "source": [
    "Segmentacion de poblaciones de usuarios (gustos musicales) y artistas (generos musicales)\n",
    "\n",
    "usuarios:\n",
    "\n",
    "01  a  10  \n",
    "11 a   20  \n",
    "21 a   30  \n",
    "31 a   40  \n",
    "41 a   50  \n",
    "51 a   60  \n",
    "61 a   70  \n",
    "71 a   80  \n",
    "81 a   90  \n",
    "91 a   100  \n",
    "\n",
    "aristas  \n",
    " \n",
    "01 a    40  pop  \n",
    "41 a    80  rock  \n",
    "81 a    120 jazz  \n",
    "121 a   160 reggeton  \n",
    "161 a   200 trap    \n",
    "201 a   240 cumbia  \n",
    " \n"
   ]
  },
  {
   "cell_type": "code",
   "execution_count": null,
   "metadata": {
    "id": "h6zFpAmzRitl"
   },
   "outputs": [],
   "source": []
  },
  {
   "cell_type": "code",
   "execution_count": null,
   "metadata": {
    "id": "HfBVCTFdw-Du"
   },
   "outputs": [],
   "source": [
    "usuarios=[]\n",
    "artistas = []"
   ]
  },
  {
   "cell_type": "markdown",
   "metadata": {
    "id": "1CK0-cB-U53z"
   },
   "source": [
    "usuarios que escuchan mayormente pop y algo de rock"
   ]
  },
  {
   "cell_type": "code",
   "execution_count": null,
   "metadata": {
    "id": "oeOQWbW0w_W8"
   },
   "outputs": [],
   "source": [
    "for i in range(1,101):\n",
    "  usuarios.append(random.randint(1,10))\n",
    "  artistas.append(random.randint(10,50))"
   ]
  },
  {
   "cell_type": "markdown",
   "metadata": {
    "id": "oSi0Zki1VFo3"
   },
   "source": [
    " usuarios que escuchan mayormente rock y jazz"
   ]
  },
  {
   "cell_type": "code",
   "execution_count": null,
   "metadata": {
    "id": "XONGhSJ3VFo4"
   },
   "outputs": [],
   "source": [
    "for i in range(1,51):\n",
    "  usuarios.append(random.randint(11,20))\n",
    "  artistas.append(random.randint(41,80))  #rock\n",
    "for i in range(1,51):\n",
    "  usuarios.append(random.randint(11,20))  \n",
    "  artistas.append(random.randint(161,200))  # jazz"
   ]
  },
  {
   "cell_type": "markdown",
   "metadata": {
    "id": "HtnXSBUjVGUC"
   },
   "source": [
    " usuarios que escuchan mayormente jazz"
   ]
  },
  {
   "cell_type": "code",
   "execution_count": null,
   "metadata": {
    "id": "okWn-P3kVGUC"
   },
   "outputs": [],
   "source": [
    "for i in range(1,101):\n",
    "  usuarios.append(random.randint(21,30))\n",
    "  artistas.append(random.randint(161,200))"
   ]
  },
  {
   "cell_type": "markdown",
   "metadata": {
    "id": "mAbfWkM0VGta"
   },
   "source": [
    " usuarios que escuchan mayormente tra, raggeton y algo de cumbia"
   ]
  },
  {
   "cell_type": "code",
   "execution_count": null,
   "metadata": {
    "id": "hxHRTm8HVGtb"
   },
   "outputs": [],
   "source": [
    "for i in range(1,61):\n",
    "  usuarios.append(random.randint(31,40))\n",
    "  artistas.append(random.randint(121,160))  # 60% trap\n",
    "for i in range(1,31):\n",
    "  usuarios.append(random.randint(31,40))  \n",
    "  artistas.append(random.randint(81,120))  # 30% reggeton\n",
    "for i in range(1,11):\n",
    "  usuarios.append(random.randint(31,40))  \n",
    "  artistas.append(random.randint(201,240))  # 10% cumbia"
   ]
  },
  {
   "cell_type": "markdown",
   "metadata": {
    "id": "QihjvqjbVG9n"
   },
   "source": [
    " usuarios que escuchan solo cumbia"
   ]
  },
  {
   "cell_type": "code",
   "execution_count": null,
   "metadata": {
    "id": "glIeuTNrVG9n"
   },
   "outputs": [],
   "source": [
    "for i in range(1,101):\n",
    "  usuarios.append(random.randint(41,50))  \n",
    "  artistas.append(random.randint(201,240))  # 100% cumbia"
   ]
  },
  {
   "cell_type": "markdown",
   "metadata": {
    "id": "bXXNpw0cVHJ6"
   },
   "source": [
    " usuarios que escuchan de todo"
   ]
  },
  {
   "cell_type": "code",
   "execution_count": null,
   "metadata": {
    "id": "DadP0kILVHJ6"
   },
   "outputs": [],
   "source": [
    "for i in range(1,101):\n",
    "  usuarios.append(random.randint(51,60))\n",
    "  artistas.append(random.randint(1,240))"
   ]
  },
  {
   "cell_type": "markdown",
   "metadata": {
    "id": "BeY9y4UQVHVg"
   },
   "source": [
    " usuarios que escuchan de todo"
   ]
  },
  {
   "cell_type": "code",
   "execution_count": null,
   "metadata": {
    "id": "x6xFGLBIVHVg"
   },
   "outputs": [],
   "source": [
    "for i in range(1,101):\n",
    "  usuarios.append(random.randint(61,70))\n",
    "  artistas.append(random.randint(1,240))"
   ]
  },
  {
   "cell_type": "markdown",
   "metadata": {
    "id": "pXKquffFVJY_"
   },
   "source": [
    "usuarios que escuchan de todo"
   ]
  },
  {
   "cell_type": "code",
   "execution_count": null,
   "metadata": {
    "id": "beDY0acyVJY_"
   },
   "outputs": [],
   "source": [
    "for i in range(1,101):\n",
    "  usuarios.append(random.randint(71,80))\n",
    "  artistas.append(random.randint(1,240))"
   ]
  },
  {
   "cell_type": "markdown",
   "metadata": {
    "id": "ncrK9V_FVJhx"
   },
   "source": [
    " usuarios que escuchan rock y trap"
   ]
  },
  {
   "cell_type": "code",
   "execution_count": null,
   "metadata": {
    "id": "SSw4-6Y4VJhx"
   },
   "outputs": [],
   "source": [
    "for i in range(1,71):\n",
    "  usuarios.append(random.randint(81,90))\n",
    "  artistas.append(random.randint(41,80))\n",
    "for i in range(1,31):\n",
    "  usuarios.append(random.randint(81,90))\n",
    "  artistas.append(random.randint(121,160))"
   ]
  },
  {
   "cell_type": "markdown",
   "metadata": {
    "id": "HA22XbApVJqk"
   },
   "source": [
    " usuarios que escuchan mayormente pop "
   ]
  },
  {
   "cell_type": "code",
   "execution_count": null,
   "metadata": {
    "id": "W9uY9s5SVJqk"
   },
   "outputs": [],
   "source": [
    "for i in range(1,101):\n",
    "  usuarios.append(random.randint(91,100))\n",
    "  artistas.append(random.randint(1,40))"
   ]
  },
  {
   "cell_type": "code",
   "execution_count": null,
   "metadata": {
    "id": "DUUTjHvLxGyj"
   },
   "outputs": [],
   "source": [
    "df_origen= pd.DataFrame({'users':usuarios,\n",
    "                  'artist':artistas})\n"
   ]
  },
  {
   "cell_type": "code",
   "execution_count": null,
   "metadata": {
    "colab": {
     "base_uri": "https://localhost:8080/",
     "height": 424
    },
    "id": "Q0w6gwtKZFNw",
    "outputId": "7f955a08-54f0-44ae-cbe7-7f9c6e10ba13"
   },
   "outputs": [],
   "source": [
    "df_origen"
   ]
  },
  {
   "cell_type": "code",
   "execution_count": null,
   "metadata": {
    "colab": {
     "base_uri": "https://localhost:8080/",
     "height": 300
    },
    "id": "Y_IQnICIxMbY",
    "outputId": "e666ded5-c752-422a-fc97-2736e1936b19"
   },
   "outputs": [],
   "source": [
    "df_origen.describe()\n"
   ]
  },
  {
   "cell_type": "markdown",
   "metadata": {
    "id": "Ym73t4TaxRa0"
   },
   "source": [
    "un poco de limpieza. artistas unicos"
   ]
  },
  {
   "cell_type": "code",
   "execution_count": null,
   "metadata": {
    "id": "WWe6mhqyxWv_"
   },
   "outputs": [],
   "source": [
    "df_origen.drop_duplicates(subset=['users', 'artist'], keep='first',inplace=True)"
   ]
  },
  {
   "cell_type": "code",
   "execution_count": null,
   "metadata": {
    "colab": {
     "base_uri": "https://localhost:8080/"
    },
    "id": "2yROSstQy_dG",
    "outputId": "7e3bc4ed-d7ae-419b-85c8-5f7c430cc25f"
   },
   "outputs": [],
   "source": [
    "len(df_origen)"
   ]
  },
  {
   "cell_type": "markdown",
   "metadata": {},
   "source": [
    "exportamos csv para alimentar una bbdd postegres"
   ]
  },
  {
   "cell_type": "code",
   "execution_count": null,
   "metadata": {},
   "outputs": [],
   "source": [
    "df_origen.to_csv('df_origen.csv', index=False)"
   ]
  },
  {
   "cell_type": "markdown",
   "metadata": {},
   "source": [
    "## conexion con bbdd postgres"
   ]
  },
  {
   "cell_type": "markdown",
   "metadata": {},
   "source": [
    "armo un dataset a partir de tabla de postgres\n",
    "\n"
   ]
  },
  {
   "cell_type": "code",
   "execution_count": 3,
   "metadata": {},
   "outputs": [],
   "source": [
    "# follows django database settings format, replace with your own settings\n",
    "DATABASES = {\n",
    "    'Musicbrainz':{\n",
    "        'NAME': 'Musicbrainz',\n",
    "        'USER': 'postgres',\n",
    "        'PASSWORD': 'qweasd',\n",
    "        'HOST': 'localhost',\n",
    "        'PORT': 5432,\n",
    "    },\n",
    "}\n",
    "\n",
    "\n"
   ]
  },
  {
   "cell_type": "code",
   "execution_count": 4,
   "metadata": {},
   "outputs": [],
   "source": [
    "# choose the database to use\n",
    "db = DATABASES['Musicbrainz']\n",
    "\n"
   ]
  },
  {
   "cell_type": "code",
   "execution_count": 5,
   "metadata": {},
   "outputs": [],
   "source": [
    "# construct an engine connection string\n",
    "engine_string = \"postgresql+psycopg2://{user}:{password}@{host}:{port}/{database}\".format(\n",
    "    user = db['USER'],\n",
    "    password = db['PASSWORD'],\n",
    "    host = db['HOST'],\n",
    "    port = db['PORT'],\n",
    "    database = db['NAME'],\n",
    ")"
   ]
  },
  {
   "cell_type": "code",
   "execution_count": 6,
   "metadata": {},
   "outputs": [],
   "source": [
    "# create sqlalchemy engine\n",
    "engine = create_engine(engine_string)"
   ]
  },
  {
   "cell_type": "code",
   "execution_count": 12,
   "metadata": {},
   "outputs": [],
   "source": [
    "# read a table from database into pandas dataframe, replace \"tablename\" with your table name\n",
    "df_origen = pd.read_sql_table('artistcredit',engine)"
   ]
  },
  {
   "cell_type": "code",
   "execution_count": 13,
   "metadata": {},
   "outputs": [
    {
     "data": {
      "text/html": [
       "<div>\n",
       "<style scoped>\n",
       "    .dataframe tbody tr th:only-of-type {\n",
       "        vertical-align: middle;\n",
       "    }\n",
       "\n",
       "    .dataframe tbody tr th {\n",
       "        vertical-align: top;\n",
       "    }\n",
       "\n",
       "    .dataframe thead th {\n",
       "        text-align: right;\n",
       "    }\n",
       "</style>\n",
       "<table border=\"1\" class=\"dataframe\">\n",
       "  <thead>\n",
       "    <tr style=\"text-align: right;\">\n",
       "      <th></th>\n",
       "      <th>id</th>\n",
       "      <th>name</th>\n",
       "      <th>artist_count</th>\n",
       "      <th>ref_count</th>\n",
       "      <th>created</th>\n",
       "    </tr>\n",
       "  </thead>\n",
       "  <tbody>\n",
       "    <tr>\n",
       "      <th>0</th>\n",
       "      <td>202094</td>\n",
       "      <td>Ani &amp; Beau</td>\n",
       "      <td>1</td>\n",
       "      <td>6</td>\n",
       "      <td>2011-05-16 16:32:11.963929+00:00</td>\n",
       "    </tr>\n",
       "    <tr>\n",
       "      <th>1</th>\n",
       "      <td>288788</td>\n",
       "      <td>Rouse</td>\n",
       "      <td>1</td>\n",
       "      <td>90</td>\n",
       "      <td>2011-05-16 16:32:11.963929+00:00</td>\n",
       "    </tr>\n",
       "    <tr>\n",
       "      <th>2</th>\n",
       "      <td>485926</td>\n",
       "      <td>The Ascient Rebels</td>\n",
       "      <td>1</td>\n",
       "      <td>2</td>\n",
       "      <td>2011-05-16 16:32:11.963929+00:00</td>\n",
       "    </tr>\n",
       "    <tr>\n",
       "      <th>3</th>\n",
       "      <td>809019</td>\n",
       "      <td>Toni Childs &amp; Phil Ramacom</td>\n",
       "      <td>2</td>\n",
       "      <td>2</td>\n",
       "      <td>2011-05-16 16:32:11.963929+00:00</td>\n",
       "    </tr>\n",
       "    <tr>\n",
       "      <th>4</th>\n",
       "      <td>218132</td>\n",
       "      <td>Londonairs</td>\n",
       "      <td>1</td>\n",
       "      <td>2</td>\n",
       "      <td>2011-05-16 16:32:11.963929+00:00</td>\n",
       "    </tr>\n",
       "    <tr>\n",
       "      <th>...</th>\n",
       "      <td>...</td>\n",
       "      <td>...</td>\n",
       "      <td>...</td>\n",
       "      <td>...</td>\n",
       "      <td>...</td>\n",
       "    </tr>\n",
       "    <tr>\n",
       "      <th>1188704</th>\n",
       "      <td>1602918</td>\n",
       "      <td>Armin van Buuren vs Sophie Ellis-Bextor</td>\n",
       "      <td>2</td>\n",
       "      <td>12</td>\n",
       "      <td>2016-01-30 11:00:48.712136+00:00</td>\n",
       "    </tr>\n",
       "    <tr>\n",
       "      <th>1188705</th>\n",
       "      <td>1821674</td>\n",
       "      <td>김희철 x 민경훈</td>\n",
       "      <td>2</td>\n",
       "      <td>1</td>\n",
       "      <td>2016-12-24 00:12:45.248979+00:00</td>\n",
       "    </tr>\n",
       "    <tr>\n",
       "      <th>1188706</th>\n",
       "      <td>3415</td>\n",
       "      <td>Ray Charles</td>\n",
       "      <td>1</td>\n",
       "      <td>14486</td>\n",
       "      <td>2011-05-16 16:32:11.963929+00:00</td>\n",
       "    </tr>\n",
       "    <tr>\n",
       "      <th>1188707</th>\n",
       "      <td>663697</td>\n",
       "      <td>The Hall Effect</td>\n",
       "      <td>1</td>\n",
       "      <td>60</td>\n",
       "      <td>2011-05-16 16:32:11.963929+00:00</td>\n",
       "    </tr>\n",
       "    <tr>\n",
       "      <th>1188708</th>\n",
       "      <td>854408</td>\n",
       "      <td>Valentín Rincón</td>\n",
       "      <td>1</td>\n",
       "      <td>58</td>\n",
       "      <td>2011-09-02 04:07:27.934798+00:00</td>\n",
       "    </tr>\n",
       "  </tbody>\n",
       "</table>\n",
       "<p>1188709 rows × 5 columns</p>\n",
       "</div>"
      ],
      "text/plain": [
       "              id                                     name  artist_count  \\\n",
       "0         202094                               Ani & Beau             1   \n",
       "1         288788                                    Rouse             1   \n",
       "2         485926                       The Ascient Rebels             1   \n",
       "3         809019               Toni Childs & Phil Ramacom             2   \n",
       "4         218132                               Londonairs             1   \n",
       "...          ...                                      ...           ...   \n",
       "1188704  1602918  Armin van Buuren vs Sophie Ellis-Bextor             2   \n",
       "1188705  1821674                                김희철 x 민경훈             2   \n",
       "1188706     3415                              Ray Charles             1   \n",
       "1188707   663697                          The Hall Effect             1   \n",
       "1188708   854408                          Valentín Rincón             1   \n",
       "\n",
       "         ref_count                          created  \n",
       "0                6 2011-05-16 16:32:11.963929+00:00  \n",
       "1               90 2011-05-16 16:32:11.963929+00:00  \n",
       "2                2 2011-05-16 16:32:11.963929+00:00  \n",
       "3                2 2011-05-16 16:32:11.963929+00:00  \n",
       "4                2 2011-05-16 16:32:11.963929+00:00  \n",
       "...            ...                              ...  \n",
       "1188704         12 2016-01-30 11:00:48.712136+00:00  \n",
       "1188705          1 2016-12-24 00:12:45.248979+00:00  \n",
       "1188706      14486 2011-05-16 16:32:11.963929+00:00  \n",
       "1188707         60 2011-05-16 16:32:11.963929+00:00  \n",
       "1188708         58 2011-09-02 04:07:27.934798+00:00  \n",
       "\n",
       "[1188709 rows x 5 columns]"
      ]
     },
     "execution_count": 13,
     "metadata": {},
     "output_type": "execute_result"
    }
   ],
   "source": [
    "df_origen"
   ]
  },
  {
   "cell_type": "code",
   "execution_count": null,
   "metadata": {},
   "outputs": [],
   "source": []
  },
  {
   "cell_type": "code",
   "execution_count": null,
   "metadata": {},
   "outputs": [],
   "source": []
  },
  {
   "cell_type": "code",
   "execution_count": null,
   "metadata": {},
   "outputs": [],
   "source": []
  },
  {
   "cell_type": "code",
   "execution_count": null,
   "metadata": {},
   "outputs": [],
   "source": []
  },
  {
   "cell_type": "code",
   "execution_count": null,
   "metadata": {},
   "outputs": [],
   "source": []
  },
  {
   "cell_type": "markdown",
   "metadata": {
    "id": "xuRlNz0wxoes"
   },
   "source": [
    "transformamos un poco el dataframe para poder alimentar un algoritmo de clusterizacion"
   ]
  },
  {
   "cell_type": "code",
   "execution_count": null,
   "metadata": {
    "colab": {
     "base_uri": "https://localhost:8080/"
    },
    "id": "IyXb_6n7xwX7",
    "outputId": "3615a5f4-131d-4f7e-946c-dbb5d6779c70"
   },
   "outputs": [],
   "source": [
    "print(df_origen['artist'].sort_values().unique())"
   ]
  },
  {
   "cell_type": "code",
   "execution_count": null,
   "metadata": {
    "colab": {
     "base_uri": "https://localhost:8080/"
    },
    "id": "Mpb3cAqlx0oA",
    "outputId": "98988f25-d769-45ef-f6af-600bcb95b0fd"
   },
   "outputs": [],
   "source": [
    "print(df_origen['artist'].value_counts())"
   ]
  },
  {
   "cell_type": "code",
   "execution_count": null,
   "metadata": {
    "id": "4J2IKMBZdNuf"
   },
   "outputs": [],
   "source": [
    "intervalos=range(1,max(df_origen.artist)+2,1)"
   ]
  },
  {
   "cell_type": "code",
   "execution_count": null,
   "metadata": {
    "colab": {
     "base_uri": "https://localhost:8080/"
    },
    "id": "kKbyz0RXdcnO",
    "outputId": "d9b41c7d-3136-481d-9d42-9cd10b2165cd"
   },
   "outputs": [],
   "source": [
    "intervalos"
   ]
  },
  {
   "cell_type": "code",
   "execution_count": null,
   "metadata": {
    "colab": {
     "base_uri": "https://localhost:8080/",
     "height": 296
    },
    "id": "h-kokW74cJ2L",
    "outputId": "657c3a0e-de7c-465d-bb8b-ae453a32f592"
   },
   "outputs": [],
   "source": [
    "sns.histplot(data=df_origen, x=\"artist\",bins=intervalos)"
   ]
  },
  {
   "cell_type": "markdown",
   "metadata": {
    "id": "dAkZ4D9uNXiI"
   },
   "source": [
    "Matriz de matcheo"
   ]
  },
  {
   "cell_type": "code",
   "execution_count": null,
   "metadata": {
    "id": "lSeAngF2Nbl0"
   },
   "outputs": [],
   "source": [
    "df1=df_origen\n",
    "df2=df_origen\n",
    "df3 = pd.merge(df1, df2, on='artist')\n"
   ]
  },
  {
   "cell_type": "code",
   "execution_count": null,
   "metadata": {
    "colab": {
     "base_uri": "https://localhost:8080/",
     "height": 394
    },
    "id": "RYS0NcTqdnRn",
    "outputId": "06d19659-9384-484a-fd93-309bcbd99724"
   },
   "outputs": [],
   "source": [
    "df1[df1.users==1]"
   ]
  },
  {
   "cell_type": "code",
   "execution_count": null,
   "metadata": {
    "colab": {
     "base_uri": "https://localhost:8080/",
     "height": 455
    },
    "id": "BGECmk1TNbjP",
    "outputId": "6ac1087b-df35-4ca2-8c10-80582e3a243c"
   },
   "outputs": [],
   "source": [
    "df_std = df3.groupby(['users_x', 'users_y']).agg({'artist': ['count']})\n",
    "df_std=df_std.reset_index()\n",
    "df_std"
   ]
  },
  {
   "cell_type": "code",
   "execution_count": null,
   "metadata": {
    "id": "Edv-VvHHNbgl"
   },
   "outputs": [],
   "source": [
    "user_1=df_std.users_x\n",
    "user_2=df_std.users_y\n",
    "match=df_std[('artist','count')]"
   ]
  },
  {
   "cell_type": "code",
   "execution_count": null,
   "metadata": {
    "id": "vs_cgDNNNbeF"
   },
   "outputs": [],
   "source": [
    "df_match=pd.DataFrame()\n",
    "df_match['user_1']=user_1\n",
    "df_match['user_2']=user_2\n",
    "df_match['match']=match"
   ]
  },
  {
   "cell_type": "code",
   "execution_count": null,
   "metadata": {
    "colab": {
     "base_uri": "https://localhost:8080/",
     "height": 424
    },
    "id": "UKI6NYlAPwLs",
    "outputId": "ada82381-f679-43ee-a1e9-9fe6eeebd71f"
   },
   "outputs": [],
   "source": [
    "df_match"
   ]
  },
  {
   "cell_type": "code",
   "execution_count": null,
   "metadata": {
    "colab": {
     "base_uri": "https://localhost:8080/",
     "height": 455
    },
    "id": "V4SG_1n9Nbbd",
    "outputId": "ba77deaf-7a8a-42b1-92cc-0d78335344a6"
   },
   "outputs": [],
   "source": [
    "m=df_match.pivot(index='user_1', columns='user_2', values='match')\n",
    "m.fillna(0, inplace=True)\n",
    "m"
   ]
  },
  {
   "cell_type": "code",
   "execution_count": null,
   "metadata": {
    "colab": {
     "base_uri": "https://localhost:8080/"
    },
    "id": "Q0UQ3344fuuG",
    "outputId": "3de14757-8155-4d7d-b723-6db0b84a3542"
   },
   "outputs": [],
   "source": [
    "t=np.arange(1,101,2)\n",
    "t"
   ]
  },
  {
   "cell_type": "code",
   "execution_count": null,
   "metadata": {
    "colab": {
     "base_uri": "https://localhost:8080/",
     "height": 1000
    },
    "id": "L0bh_CxnOaAq",
    "outputId": "f6da2cd3-d74b-4cd3-fef9-f828b3a5a484"
   },
   "outputs": [],
   "source": [
    "plt.figure(figsize=(20,16))\n",
    "\n",
    "\n",
    "g=sns.scatterplot(data=df_match, x=\"user_1\", y=\"user_2\", hue='match', size=\"match\",\n",
    "    sizes=(50, 300),legend=\"full\")\n",
    "plt.legend(bbox_to_anchor=(1.02, 1), loc='upper left', borderaxespad=0)\n",
    "plt.xticks(t)\n",
    "plt.yticks(t)\n"
   ]
  },
  {
   "cell_type": "code",
   "execution_count": null,
   "metadata": {
    "id": "xPaPrai1OZ9v"
   },
   "outputs": [],
   "source": []
  },
  {
   "cell_type": "code",
   "execution_count": null,
   "metadata": {
    "id": "MSxp4dSCOZ67"
   },
   "outputs": [],
   "source": []
  },
  {
   "cell_type": "markdown",
   "metadata": {
    "id": "1waG8HNWOo5E"
   },
   "source": [
    "## Algoritmos de clustering"
   ]
  },
  {
   "cell_type": "markdown",
   "metadata": {
    "id": "PvvG4Wt9yMMd"
   },
   "source": [
    "### Hacemos un one hot encoder sobre la feature artista"
   ]
  },
  {
   "cell_type": "code",
   "execution_count": null,
   "metadata": {
    "colab": {
     "base_uri": "https://localhost:8080/",
     "height": 488
    },
    "id": "92v51_i_yRO1",
    "outputId": "9db7697e-67d6-45f2-da64-68f2bd37a8dd"
   },
   "outputs": [],
   "source": [
    "data_encoded = pd.get_dummies(df_origen, columns = ['artist'])\n",
    "data_encoded"
   ]
  },
  {
   "cell_type": "code",
   "execution_count": null,
   "metadata": {
    "id": "qGgh9hb4yuZo"
   },
   "outputs": [],
   "source": [
    "df4 = data_encoded.groupby(['users'])[ data_encoded.columns[1:].values].sum()\n",
    "df4=df4.reset_index()"
   ]
  },
  {
   "cell_type": "code",
   "execution_count": null,
   "metadata": {
    "colab": {
     "base_uri": "https://localhost:8080/",
     "height": 488
    },
    "id": "V2-w9bL2yz8S",
    "outputId": "fab3f449-5121-4e2f-eed1-65d66b6666b0"
   },
   "outputs": [],
   "source": [
    "df4"
   ]
  },
  {
   "cell_type": "code",
   "execution_count": null,
   "metadata": {
    "colab": {
     "base_uri": "https://localhost:8080/"
    },
    "id": "4hKXCbGDjgN_",
    "outputId": "8ef5ec35-0199-4082-f9c6-3ed3223b778a"
   },
   "outputs": [],
   "source": [
    "df4[df4.users==1].values.sum()"
   ]
  },
  {
   "cell_type": "code",
   "execution_count": null,
   "metadata": {
    "colab": {
     "base_uri": "https://localhost:8080/",
     "height": 396
    },
    "id": "6HAKAsmYi7Bx",
    "outputId": "64e25ca0-5816-4957-81a7-3f3f771adcd2"
   },
   "outputs": [],
   "source": [
    "df4.iloc[1:10,:20]"
   ]
  },
  {
   "cell_type": "markdown",
   "metadata": {
    "id": "T8eewKxdXJlE"
   },
   "source": [
    "Aplicacion del modelo"
   ]
  },
  {
   "cell_type": "code",
   "execution_count": null,
   "metadata": {
    "id": "jm1d9-9g1Jre"
   },
   "outputs": [],
   "source": [
    "X=df4.iloc[:,1:]\n",
    "y=df4.iloc[:,0]"
   ]
  },
  {
   "cell_type": "code",
   "execution_count": null,
   "metadata": {
    "colab": {
     "base_uri": "https://localhost:8080/"
    },
    "id": "iK319fcbXXKt",
    "outputId": "da841373-9d3f-4106-d6ce-4a10d627fe6b"
   },
   "outputs": [],
   "source": [
    "y"
   ]
  },
  {
   "cell_type": "markdown",
   "metadata": {
    "id": "-VT55isdH5FO"
   },
   "source": [
    "k Means"
   ]
  },
  {
   "cell_type": "code",
   "execution_count": null,
   "metadata": {
    "id": "DMaGGVF0Xj4e"
   },
   "outputs": [],
   "source": [
    "# Importmaos la libreria\n",
    "from sklearn.cluster import KMeans\n",
    "\n",
    "# Especificamos el numero adecuado de clusters en cada caso\n",
    "kmeans_1 = KMeans(n_clusters=4)\n"
   ]
  },
  {
   "cell_type": "markdown",
   "metadata": {
    "id": "yGmM12ByZIj6"
   },
   "source": [
    "3. Entrenamos los modelos con los datos"
   ]
  },
  {
   "cell_type": "code",
   "execution_count": null,
   "metadata": {
    "colab": {
     "base_uri": "https://localhost:8080/"
    },
    "id": "c8OHv96aZCEl",
    "outputId": "62e67495-dfcc-40fa-ee80-4ea80cee0cfc"
   },
   "outputs": [],
   "source": [
    "kmeans_1.fit(X)\n"
   ]
  },
  {
   "cell_type": "markdown",
   "metadata": {
    "id": "9AkvWISSZah5"
   },
   "source": [
    "Luego de entrenar los modelos, podemos consultar las etiquetas que se le asignó a cada instancia y el lugar de los centroides."
   ]
  },
  {
   "cell_type": "code",
   "execution_count": null,
   "metadata": {
    "colab": {
     "base_uri": "https://localhost:8080/"
    },
    "id": "I8ghRT8qZUDQ",
    "outputId": "8b5cc0fa-930e-4994-8858-8122ddda0b07"
   },
   "outputs": [],
   "source": [
    "etiquetas_1 = kmeans_1.labels_\n",
    "#print(etiquetas_1.shape)\n",
    "etiquetas_1"
   ]
  },
  {
   "cell_type": "code",
   "execution_count": null,
   "metadata": {
    "id": "m10scptjZiJY"
   },
   "outputs": [],
   "source": [
    "cluster_map = pd.DataFrame()\n",
    "cluster_map['user'] = y\n",
    "cluster_map['cluster_KMeans'] = kmeans_1.labels_"
   ]
  },
  {
   "cell_type": "code",
   "execution_count": null,
   "metadata": {
    "colab": {
     "base_uri": "https://localhost:8080/",
     "height": 424
    },
    "id": "xVhmNhdsJixj",
    "outputId": "30397639-7906-414c-b334-88d54fc7ac7f"
   },
   "outputs": [],
   "source": [
    "cluster_map"
   ]
  },
  {
   "cell_type": "code",
   "execution_count": null,
   "metadata": {
    "id": "gObqcIeKaL3k"
   },
   "outputs": [],
   "source": [
    "#centros_1 = kmeans_1.cluster_centers_\n",
    "#print(centros_1)"
   ]
  },
  {
   "cell_type": "markdown",
   "metadata": {
    "id": "O6vuEdpUH9GO"
   },
   "source": [
    "## DBscan"
   ]
  },
  {
   "cell_type": "code",
   "execution_count": null,
   "metadata": {
    "id": "Lv479zpgH8aR"
   },
   "outputs": [],
   "source": [
    "from sklearn.cluster import DBSCAN"
   ]
  },
  {
   "cell_type": "code",
   "execution_count": null,
   "metadata": {
    "id": "HwMBoQ5fYD0G"
   },
   "outputs": [],
   "source": []
  },
  {
   "cell_type": "markdown",
   "metadata": {
    "id": "HRJP6GdfPCbH"
   },
   "source": [
    "BUSQUEDA DE LOS MEJORES HIPERPARAMETROS PARA DBSCAN"
   ]
  },
  {
   "cell_type": "code",
   "execution_count": null,
   "metadata": {
    "id": "yZTd44CsKI2Y"
   },
   "outputs": [],
   "source": [
    "from itertools import product\n",
    "\n",
    "eps_values = np.arange(2,2.5,.1) # eps values to be investigated\n",
    "min_samples = np.arange(1,3) # min_samples values to be investigated\n",
    "\n",
    "DBSCAN_params = list(product(eps_values, min_samples))"
   ]
  },
  {
   "cell_type": "code",
   "execution_count": null,
   "metadata": {
    "colab": {
     "base_uri": "https://localhost:8080/"
    },
    "id": "HTo0FnHcPYne",
    "outputId": "e4f4c0e7-16c0-48e3-8af6-f172c1e08038"
   },
   "outputs": [],
   "source": [
    "DBSCAN_params"
   ]
  },
  {
   "cell_type": "code",
   "execution_count": null,
   "metadata": {
    "id": "_O-jDZc-PpUz"
   },
   "outputs": [],
   "source": [
    "from sklearn.metrics import silhouette_score\n",
    "\n",
    "no_of_clusters = []\n",
    "sil_score = []\n",
    "\n",
    "for p in DBSCAN_params:\n",
    "    DBS_clustering = DBSCAN(eps=p[0], min_samples=p[1]).fit(X)\n",
    "    no_of_clusters.append(len(np.unique(DBS_clustering.labels_)))\n",
    "    sil_score.append(silhouette_score(X, DBS_clustering.labels_))"
   ]
  },
  {
   "cell_type": "code",
   "execution_count": null,
   "metadata": {
    "colab": {
     "base_uri": "https://localhost:8080/",
     "height": 380
    },
    "id": "FWdlXT87QcUW",
    "outputId": "76a36978-b380-4799-b6dd-f678929dd44b"
   },
   "outputs": [],
   "source": [
    "tmp = pd.DataFrame.from_records(DBSCAN_params, columns =['Eps', 'Min_samples'])   \n",
    "tmp['No_of_clusters'] = no_of_clusters\n",
    "\n",
    "pivot_1 = pd.pivot_table(tmp, values='No_of_clusters', index='Min_samples', columns='Eps')\n",
    "\n",
    "fig, ax = plt.subplots(figsize=(12,6))\n",
    "sns.heatmap(pivot_1, annot=True,annot_kws={\"size\": 16}, cmap=\"YlGnBu\", ax=ax)\n",
    "ax.set_title('Number of clusters')\n",
    "plt.show()"
   ]
  },
  {
   "cell_type": "code",
   "execution_count": null,
   "metadata": {
    "colab": {
     "base_uri": "https://localhost:8080/",
     "height": 380
    },
    "id": "gObNPnSgS_oU",
    "outputId": "03533977-c234-47ca-ace9-5623664183c8"
   },
   "outputs": [],
   "source": [
    "tmp = pd.DataFrame.from_records(DBSCAN_params, columns =['Eps', 'Min_samples'])   \n",
    "tmp['Sil_score'] = sil_score\n",
    "\n",
    "pivot_1 = pd.pivot_table(tmp, values='Sil_score', index='Min_samples', columns='Eps')\n",
    "\n",
    "fig, ax = plt.subplots(figsize=(18,6))\n",
    "sns.heatmap(pivot_1, annot=True, annot_kws={\"size\": 10}, cmap=\"YlGnBu\", ax=ax)\n",
    "plt.show()"
   ]
  },
  {
   "cell_type": "code",
   "execution_count": null,
   "metadata": {
    "colab": {
     "base_uri": "https://localhost:8080/"
    },
    "id": "LA6CY6aWbSeS",
    "outputId": "f7b0805a-caf3-463c-dcf5-53c0cfc121d6"
   },
   "outputs": [],
   "source": [
    "# En este paso tenemos que definir el epsilon y en min_samples, los parametros del método.\n",
    "db_1 = DBSCAN(eps=3, min_samples=3)\n",
    "db_1.fit(X)\n",
    "db_1.labels_"
   ]
  },
  {
   "cell_type": "code",
   "execution_count": null,
   "metadata": {
    "colab": {
     "base_uri": "https://localhost:8080/",
     "height": 424
    },
    "id": "D_4hQQ4eJOW9",
    "outputId": "64610eaa-0ac2-4911-8495-8efa6d277fb8"
   },
   "outputs": [],
   "source": [
    "cluster_map['cluster_DBSCAN'] = db_1.labels_\n",
    "cluster_map\n"
   ]
  },
  {
   "cell_type": "code",
   "execution_count": null,
   "metadata": {
    "colab": {
     "base_uri": "https://localhost:8080/"
    },
    "id": "6e4MXvXTnjdu",
    "outputId": "9165f00b-3438-4d86-d2da-43601c93e58a"
   },
   "outputs": [],
   "source": [
    "db_1.labels_"
   ]
  },
  {
   "cell_type": "code",
   "execution_count": null,
   "metadata": {
    "colab": {
     "base_uri": "https://localhost:8080/",
     "height": 455
    },
    "id": "48HqO6b9T3Po",
    "outputId": "907078f3-62fc-47dd-efae-c3b8d6fe4b72"
   },
   "outputs": [],
   "source": [
    "m"
   ]
  },
  {
   "cell_type": "markdown",
   "metadata": {
    "id": "-wACBsnzUtUZ"
   },
   "source": [
    "Algortitmo affinity propagation "
   ]
  },
  {
   "cell_type": "code",
   "execution_count": null,
   "metadata": {
    "id": "IZBab2DsUxG5"
   },
   "outputs": [],
   "source": [
    "from sklearn.cluster import AffinityPropagation"
   ]
  },
  {
   "cell_type": "code",
   "execution_count": null,
   "metadata": {
    "colab": {
     "base_uri": "https://localhost:8080/",
     "height": 70
    },
    "id": "09wiIxZMU5p8",
    "outputId": "55276ed6-6a9e-42ec-b01f-b12fd97dcc42"
   },
   "outputs": [],
   "source": [
    "'''no_of_clusters = []\n",
    "preferences = range(-5,-5,1) # arbitraty chosen range\n",
    "af_sil_score = [] # silouette scores\n",
    "\n",
    "for p in preferences:\n",
    "    AF = AffinityPropagation(preference=p, max_iter=200).fit(X)\n",
    "    no_of_clusters.append((len(np.unique(AF.labels_))))\n",
    "    af_sil_score.append(silhouette_score(X, AF.labels_))\n",
    "    \n",
    "af_results = pd.DataFrame([preferences, no_of_clusters, af_sil_score], index=['preference','clusters', 'sil_score']).T\n",
    "af_results.sort_values(by='sil_score', ascending=False).head() # display only 5 best scores\n",
    "'''"
   ]
  },
  {
   "cell_type": "code",
   "execution_count": null,
   "metadata": {
    "colab": {
     "base_uri": "https://localhost:8080/",
     "height": 130
    },
    "id": "xtRAqq4hVUmX",
    "outputId": "c1a1ee26-f569-4576-9948-7f0fcdd338f3"
   },
   "outputs": [],
   "source": [
    " AP_1 = AffinityPropagation(preference=-800 max_iter=200).fit(X)"
   ]
  },
  {
   "cell_type": "code",
   "execution_count": null,
   "metadata": {
    "colab": {
     "base_uri": "https://localhost:8080/",
     "height": 424
    },
    "id": "gw7ZdeP1WAAD",
    "outputId": "25bbff4c-ca56-4593-f571-85103b144390"
   },
   "outputs": [],
   "source": [
    "cluster_map['cluster_AP'] = AP_1.labels_\n",
    "cluster_map\n"
   ]
  },
  {
   "cell_type": "markdown",
   "metadata": {
    "id": "CLrDfxTUcTEB"
   },
   "source": [
    "# Grafo"
   ]
  },
  {
   "cell_type": "code",
   "execution_count": null,
   "metadata": {
    "id": "VPJpxm-fcVOu"
   },
   "outputs": [],
   "source": [
    "import networkx as nx"
   ]
  },
  {
   "cell_type": "code",
   "execution_count": null,
   "metadata": {
    "id": "J7EhXZOYzYOW"
   },
   "outputs": [],
   "source": [
    "df_relations=df_match[df_match['user_1']<df_match['user_2']]\n",
    "df_relations.reset_index(inplace=True)"
   ]
  },
  {
   "cell_type": "code",
   "execution_count": null,
   "metadata": {
    "colab": {
     "base_uri": "https://localhost:8080/",
     "height": 424
    },
    "id": "mwZh6H9T2SMW",
    "outputId": "20b71a81-8900-4c56-b6c3-8d580f3e4e1e"
   },
   "outputs": [],
   "source": [
    "df_relations"
   ]
  },
  {
   "cell_type": "markdown",
   "metadata": {
    "id": "EQSf05OcsIwZ"
   },
   "source": [
    "en 100 usuario las posibles combinaciones de a pares son 100C2 4950 "
   ]
  },
  {
   "cell_type": "code",
   "execution_count": null,
   "metadata": {
    "id": "efruNLZderAM"
   },
   "outputs": [],
   "source": [
    "G = nx.from_pandas_edgelist(\n",
    "    df_relations,\n",
    "    source='user_1',\n",
    "    target='user_2',\n",
    "    #edge_labels={(source, target): match}\n",
    "    #edge_key= \"my_edge_key\",\n",
    "    #edge_attr=['match'],\n",
    "    #create_using=nx.MultiGraph(),\n",
    ")"
   ]
  },
  {
   "cell_type": "code",
   "execution_count": null,
   "metadata": {
    "colab": {
     "base_uri": "https://localhost:8080/",
     "height": 895
    },
    "id": "32jFi8KicWTo",
    "outputId": "7553e57e-d60a-4d89-bbe1-bb95d7a04614"
   },
   "outputs": [],
   "source": [
    "plt.figure(figsize=(15,12))\n",
    "nx.draw_kamada_kawai(G, node_size=4000,with_labels=True, font_size=25, font_color=\"orange\", font_weight=\"bold\")"
   ]
  },
  {
   "cell_type": "code",
   "execution_count": null,
   "metadata": {
    "colab": {
     "base_uri": "https://localhost:8080/",
     "height": 895
    },
    "id": "FnLi_JQisuxH",
    "outputId": "1e7d9d68-9d1c-4a16-c05d-7ec3b17ab867"
   },
   "outputs": [],
   "source": [
    "plt.figure(figsize=(15,12))\n",
    "nx.draw_spring(G, node_size=4000,with_labels=True, font_size=25, font_color=\"orange\", font_weight=\"bold\")"
   ]
  },
  {
   "cell_type": "code",
   "execution_count": null,
   "metadata": {
    "colab": {
     "base_uri": "https://localhost:8080/"
    },
    "id": "KJ6CHFZcgSzU",
    "outputId": "347f8d9d-5dae-4347-ccfc-a40e795384e2"
   },
   "outputs": [],
   "source": [
    "print(nx.info(G))"
   ]
  },
  {
   "cell_type": "code",
   "execution_count": null,
   "metadata": {
    "id": "JMBphnsRvsyL"
   },
   "outputs": [],
   "source": [
    "G_weighted = nx.Graph()"
   ]
  },
  {
   "cell_type": "code",
   "execution_count": null,
   "metadata": {
    "id": "OGFXmPHSxVEb"
   },
   "outputs": [],
   "source": [
    "for i in range(0, len(df_relations)):\n",
    "  G_weighted.add_edge(df_relations.iloc[i,1],  df_relations.iloc[i,2],   weight=df_relations.iloc[i,3])\n",
    "  "
   ]
  },
  {
   "cell_type": "code",
   "execution_count": null,
   "metadata": {
    "colab": {
     "base_uri": "https://localhost:8080/"
    },
    "id": "7vTZrnBptrTG",
    "outputId": "1e3ae380-82e1-4b31-ae94-a55f277aa4cb"
   },
   "outputs": [],
   "source": [
    "df_relations.iloc[:,3].describe()\n"
   ]
  },
  {
   "cell_type": "code",
   "execution_count": null,
   "metadata": {
    "colab": {
     "base_uri": "https://localhost:8080/",
     "height": 34
    },
    "id": "Sa2-K0dA3RyI",
    "outputId": "ee7ea6c1-6a73-4091-abf7-d3d535fedbfc"
   },
   "outputs": [],
   "source": [
    "elarge = [(u, v) for (u, v, d) in G_weighted.edges(data=True) if d['weight'] >3 ]\n",
    "emedium = [(u, v) for (u, v, d) in G_weighted.edges(data=True) if (d['weight'] >=2 and d['weight'] <3) ]\n",
    "esmall = [(u, v) for (u, v, d) in G_weighted.edges(data=True) if d['weight'] <2]\n",
    "plt.figure(figsize=(20,20))\n",
    "pos = nx.circular_layout(G_weighted)  # positions for all nodes"
   ]
  },
  {
   "cell_type": "code",
   "execution_count": null,
   "metadata": {
    "colab": {
     "base_uri": "https://localhost:8080/",
     "height": 1000
    },
    "id": "rTyKqvRn2Cci",
    "outputId": "c0c67dcb-6cc9-420d-8112-9d5f525f1433"
   },
   "outputs": [],
   "source": [
    "plt.figure(figsize=(20,20))\n",
    "# nodes\n",
    "\n",
    "nx.draw_networkx_nodes(G_weighted, pos, node_size=300)\n",
    "\n",
    "# edges\n",
    "\n",
    "nx.draw_networkx_edges(G_weighted, pos, edgelist=elarge,width=3, alpha=1, edge_color='r', style='solid')\n",
    "\n",
    "nx.draw_networkx_edges(G_weighted, pos, edgelist=emedium,width=2, alpha=0.5, edge_color='g', style='dotted')\n",
    "\n",
    "nx.draw_networkx_edges(G_weighted, pos, edgelist=esmall,width=1, alpha=0.3, edge_color='b', style='dashed')\n",
    "\n",
    "# labels\n",
    "\n",
    "nx.draw_networkx_labels(G_weighted, pos, font_size=20, font_family='sans-serif')\n",
    "\n",
    "plt.axis('off')\n",
    "\n",
    "plt.show()\n"
   ]
  },
  {
   "cell_type": "code",
   "execution_count": null,
   "metadata": {
    "colab": {
     "base_uri": "https://localhost:8080/",
     "height": 1000
    },
    "id": "EUOdDUWZhJ1C",
    "outputId": "5dc898e0-3af4-4dc1-d9eb-8ffb29d51404"
   },
   "outputs": [],
   "source": [
    "plt.figure(figsize=(20,20))\n",
    "nx.draw_networkx(G_weighted);"
   ]
  },
  {
   "cell_type": "code",
   "execution_count": null,
   "metadata": {
    "colab": {
     "base_uri": "https://localhost:8080/",
     "height": 1000
    },
    "id": "S4r7rv4ChdgO",
    "outputId": "e64bfed4-cd0a-4e63-9101-59b16dc8ca58"
   },
   "outputs": [],
   "source": [
    "pos = nx.spring_layout(G_weighted,threshold=0.0001,k=0.92,dim=2,scale=.0005)\n",
    "betCent = nx.betweenness_centrality(G_weighted, normalized=True, endpoints=True)\n",
    "node_color = [20000.0 * G_weighted.degree(v) for v in G_weighted]\n",
    "node_size =  [v*v * 1000000 for v in betCent.values()]\n",
    "plt.figure(figsize=(20,20))\n",
    "nx.draw_networkx(G_weighted, pos=pos, with_labels=True,\n",
    "                 node_color=node_color,\n",
    "                 node_size=node_size )\n",
    "plt.axis('off');"
   ]
  },
  {
   "cell_type": "code",
   "execution_count": null,
   "metadata": {
    "colab": {
     "base_uri": "https://localhost:8080/"
    },
    "id": "5XFWnNHi1Ys9",
    "outputId": "f4194203-be65-4aec-8e68-0e6697a5d3bf"
   },
   "outputs": [],
   "source": [
    "pos = nx.spring_layout(G_weighted.degree)\n",
    "pos"
   ]
  },
  {
   "cell_type": "markdown",
   "metadata": {
    "id": "5hdtfdh97HST"
   },
   "source": [
    "Algunas métricas"
   ]
  },
  {
   "cell_type": "code",
   "execution_count": null,
   "metadata": {
    "colab": {
     "base_uri": "https://localhost:8080/"
    },
    "id": "u-tJGWXL2CZ1",
    "outputId": "6beefaa3-dc7d-4c67-dd6a-b1285f1ef2db"
   },
   "outputs": [],
   "source": [
    "nx.clustering(G_weighted,9)"
   ]
  },
  {
   "cell_type": "code",
   "execution_count": null,
   "metadata": {
    "colab": {
     "base_uri": "https://localhost:8080/"
    },
    "id": "jiqretRH2CXD",
    "outputId": "917e66c6-1206-412d-ff51-0b05ab4c875a"
   },
   "outputs": [],
   "source": [
    "nx.average_clustering(G_weighted)"
   ]
  },
  {
   "cell_type": "code",
   "execution_count": null,
   "metadata": {
    "colab": {
     "base_uri": "https://localhost:8080/"
    },
    "id": "dKwlISK42CUN",
    "outputId": "1d810085-9e36-442f-fb68-318a78f24679"
   },
   "outputs": [],
   "source": [
    "nx.degree_centrality(G_weighted)"
   ]
  },
  {
   "cell_type": "code",
   "execution_count": null,
   "metadata": {
    "colab": {
     "base_uri": "https://localhost:8080/"
    },
    "id": "iJ1qxm952CRo",
    "outputId": "f78ff023-e29e-4a1b-b5e1-890f97ffbb6c"
   },
   "outputs": [],
   "source": [
    "nx.eigenvector_centrality(G_weighted)"
   ]
  },
  {
   "cell_type": "code",
   "execution_count": null,
   "metadata": {
    "colab": {
     "base_uri": "https://localhost:8080/"
    },
    "id": "aazLisBb2CO-",
    "outputId": "f6b75479-bc0b-46ac-f8a2-38170bdbf584"
   },
   "outputs": [],
   "source": [
    "nx.closeness_centrality(G_weighted)"
   ]
  },
  {
   "cell_type": "code",
   "execution_count": null,
   "metadata": {
    "colab": {
     "base_uri": "https://localhost:8080/"
    },
    "id": "ewMRQ87n2CMX",
    "outputId": "7b4d702b-bfd6-4130-fcb6-a112b4a2f70e"
   },
   "outputs": [],
   "source": [
    "nx.betweenness_centrality(G_weighted)"
   ]
  },
  {
   "cell_type": "code",
   "execution_count": null,
   "metadata": {
    "id": "jb4sXsz9ErVg"
   },
   "outputs": [],
   "source": [
    "G = nx.complete_graph(4)\n",
    "pos = nx.nx_pydot.graphviz_layout(G)\n",
    "pos = nx.nx_pydot.graphviz_layout(G, prog=\"dot\")"
   ]
  },
  {
   "cell_type": "code",
   "execution_count": null,
   "metadata": {},
   "outputs": [],
   "source": []
  },
  {
   "cell_type": "code",
   "execution_count": null,
   "metadata": {},
   "outputs": [],
   "source": []
  }
 ],
 "metadata": {
  "colab": {
   "provenance": []
  },
  "kernelspec": {
   "display_name": "Python 3 (ipykernel)",
   "language": "python",
   "name": "python3"
  },
  "language_info": {
   "codemirror_mode": {
    "name": "ipython",
    "version": 3
   },
   "file_extension": ".py",
   "mimetype": "text/x-python",
   "name": "python",
   "nbconvert_exporter": "python",
   "pygments_lexer": "ipython3",
   "version": "3.9.12"
  }
 },
 "nbformat": 4,
 "nbformat_minor": 4
}
